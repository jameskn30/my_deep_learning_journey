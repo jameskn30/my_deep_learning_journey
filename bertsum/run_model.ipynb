{
 "cells": [
  {
   "cell_type": "code",
   "execution_count": 4,
   "metadata": {},
   "outputs": [],
   "source": [
    "import math\n",
    "import torch\n",
    "import torch.nn as nn\n",
    "\n",
    "from models.classifier import Classifier\n",
    "from pytorch_pretrained_bert import BertModel, BertConfig, BertTokenizer\n",
    "from utils import dataloader"
   ]
  },
  {
   "cell_type": "code",
   "execution_count": 2,
   "metadata": {},
   "outputs": [],
   "source": [
    "class Bert(nn.Module):\n",
    "    def __init__(self, load_pretrained_bert, bert_config = None, tmp_dir='./dataset/bert/', ):\n",
    "        super(Bert, self).__init__()\n",
    "        if load_pretrained_bert:\n",
    "            self.model = BertModel.from_pretrained('bert-base-uncased', cache_dir=tmp_dir)\n",
    "        else:\n",
    "            assert bert_config, 'Bert config cannot be null, or set load_pretrained_bert to True'\n",
    "            self.model = BertModel(bert_config)\n",
    "        \n",
    "    \n",
    "    def forward(self, x, segs, mask):\n",
    "        #attention mask is like valid_lens\n",
    "        encoded_layers, _ = self.model(x, segs, attention_mask = mask)\n",
    "        top_vec = encoded_layers[-1]\n",
    "        return top_vec"
   ]
  },
  {
   "cell_type": "code",
   "execution_count": 15,
   "metadata": {},
   "outputs": [],
   "source": [
    "model = BertModel.from_pretrained('bert-base-uncased')\n",
    "tokenizer = BertTokenizer.from_pretrained('bert-base-uncased')"
   ]
  },
  {
   "cell_type": "code",
   "execution_count": 23,
   "metadata": {},
   "outputs": [
    {
     "name": "stdout",
     "output_type": "stream",
     "text": [
      "30522\n"
     ]
    }
   ],
   "source": [
    "print(len(tokenizer.vocab))"
   ]
  },
  {
   "cell_type": "code",
   "execution_count": 22,
   "metadata": {},
   "outputs": [
    {
     "name": "stdout",
     "output_type": "stream",
     "text": [
      "tensor([[  101,  2040,  2001,  3958, 27227,  1029,   102,  3958, 27227,  2001,\n",
      "          1037, 13997, 11510,   102]], device='cuda:0')\n",
      "torch.Size([1, 14])\n",
      "tensor([[0, 0, 0, 0, 0, 0, 0, 1, 1, 1, 1, 1, 1, 1]], device='cuda:0')\n",
      "12  layers in pretrained BERT\n",
      "torch.Size([1, 14, 768])\n"
     ]
    }
   ],
   "source": [
    "\n",
    "sentence = '[CLS] Who was Jim Henson ? [SEP] Jim Henson was a puppeteer [SEP]'\n",
    "tokens = tokenizer.tokenize(sentence)\n",
    "\n",
    "token_idx = tokenizer.convert_tokens_to_ids(tokens)\n",
    "\n",
    "segments_ids = [0, 0, 0, 0, 0, 0, 0, 1, 1, 1, 1, 1, 1, 1]\n",
    "\n",
    "token_idx = torch.tensor([token_idx]).to('cuda')\n",
    "segs = torch.tensor([segments_ids]).to('cuda')\n",
    "\n",
    "print(token_idx)\n",
    "print(token_idx.shape)\n",
    "print(segs)\n",
    "\n",
    "#use Bertmodel to get hidden states\n",
    "model.eval()\n",
    "model.to('cuda')\n",
    "\n",
    "with torch.no_grad():\n",
    "    encoded_layers, _ = model(token_idx, segs)\n",
    "\n",
    "print(len(encoded_layers), ' layers in pretrained BERT')\n",
    "print(encoded_layers[0].shape)"
   ]
  },
  {
   "cell_type": "code",
   "execution_count": 3,
   "metadata": {},
   "outputs": [],
   "source": [
    "class Summarizer(nn.Module):\n",
    "    def __init__(self, args, device, load_pretrained_bert = False, bert_config = None):\n",
    "        super(Summarizer, self).__init__()\n",
    "\n",
    "        #Setup baseline\n",
    "        bert_config = BertConfig(\n",
    "            args.vovcab_size,\n",
    "            hidden_size = args.hidden_size,\n",
    "            num_hidden_layers = args.num_hidden_layers,\n",
    "            num_attention_heads = args.num_attention_heads,\n",
    "            intermediate_size=args.rnn_size\n",
    "        )\n",
    "        self.bert = Bert(False, bert_config)\n",
    "        self.encoder = Classifier(self.bert.model.config.num_hiddens)\n",
    "\n",
    "        #init arguments\n",
    "        if args.param_init != 0.0:\n",
    "            for p in self.encoder.parameters():\n",
    "                p.data.uniform_(-args.param_init, args.param_init)\n",
    "        \n",
    "        self.to(device)\n",
    "    \n",
    "    def forward(self):\n",
    "        pass\n",
    "    "
   ]
  },
  {
   "attachments": {},
   "cell_type": "markdown",
   "metadata": {},
   "source": [
    "### Train the model"
   ]
  },
  {
   "cell_type": "code",
   "execution_count": 6,
   "metadata": {},
   "outputs": [
    {
     "name": "stdout",
     "output_type": "stream",
     "text": [
      "cuda\n"
     ]
    }
   ],
   "source": [
    "#params\n",
    "batch_size = 16\n",
    "device = 'cuda' if torch.cuda.device_count() > 0 else 'cpu'"
   ]
  },
  {
   "cell_type": "code",
   "execution_count": 5,
   "metadata": {},
   "outputs": [
    {
     "name": "stderr",
     "output_type": "stream",
     "text": [
      "c:\\Users\\nguye\\anaconda3\\envs\\torch\\lib\\site-packages\\torchtext\\data\\utils.py:105: UserWarning: Spacy model \"en\" could not be loaded, trying \"en_core_web_sm\" instead\n",
      "  warnings.warn(\n"
     ]
    },
    {
     "name": "stdout",
     "output_type": "stream",
     "text": [
      "[IN PROGRESS] loading\n",
      "[IN PROGRESS] pre-cleaning\n",
      "[IN PROGRESS] building vocab\n",
      "[IN PROGRESS] batchifying data\n"
     ]
    }
   ],
   "source": [
    "#Load data iterator\n",
    "train_set = dataloader.CNNDailyMailDataset()\n",
    "train_iter = torch.utils.data.DataLoader(train_set, batch_size, shuffle=True)"
   ]
  },
  {
   "cell_type": "code",
   "execution_count": null,
   "metadata": {},
   "outputs": [],
   "source": [
    "model = Summarizer()\n"
   ]
  }
 ],
 "metadata": {
  "kernelspec": {
   "display_name": "torch",
   "language": "python",
   "name": "python3"
  },
  "language_info": {
   "codemirror_mode": {
    "name": "ipython",
    "version": 3
   },
   "file_extension": ".py",
   "mimetype": "text/x-python",
   "name": "python",
   "nbconvert_exporter": "python",
   "pygments_lexer": "ipython3",
   "version": "3.9.16"
  },
  "orig_nbformat": 4
 },
 "nbformat": 4,
 "nbformat_minor": 2
}
