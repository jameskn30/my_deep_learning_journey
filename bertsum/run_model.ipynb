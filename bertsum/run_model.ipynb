{
 "cells": [
  {
   "cell_type": "code",
   "execution_count": 3,
   "metadata": {},
   "outputs": [],
   "source": [
    "import math\n",
    "import torch\n",
    "import torch.nn as nn\n",
    "\n",
    "from models.classifier import Classifier\n",
    "from pytorch_pretrained_bert import BertModel, BertConfig"
   ]
  },
  {
   "cell_type": "code",
   "execution_count": null,
   "metadata": {},
   "outputs": [],
   "source": [
    "#Hyperparameter\n",
    "num_hiddens = 16\n",
    "vocab"
   ]
  },
  {
   "cell_type": "code",
   "execution_count": 2,
   "metadata": {},
   "outputs": [],
   "source": [
    "class Bert(nn.Module):\n",
    "    def __init__(self, load_pretrained_bert, bert_config = None, tmp_dir='./dataset/bert/', ):\n",
    "        super(Bert, self).__init__()\n",
    "        if load_pretrained_bert:\n",
    "            self.model = BertModel.from_pretrained('bert-base-uncased', cache_dir=tmp_dir)\n",
    "        else:\n",
    "            assert bert_config, 'Bert config cannot be null, or set load_pretrained_bert to True'\n",
    "            self.model = BertModel(bert_config)\n",
    "        \n",
    "    \n",
    "    def forward(self, x, segs, mask):\n",
    "        #attention mask is like valid_lens\n",
    "        encoded_layers, _ = self.model(x, segs, attention_mask = mask)\n",
    "        top_vec = encoded_layers[-1]\n",
    "        return top_vec"
   ]
  },
  {
   "cell_type": "code",
   "execution_count": null,
   "metadata": {},
   "outputs": [],
   "source": [
    "class Summarizer(nn.Module):\n",
    "    def __init__(self, args, device, load_pretrained_bert = False, bert_config = None):\n",
    "        super(Summarizer, self).__init__()\n",
    "\n",
    "        #Setup baseline\n",
    "        bert_config = BertConfig(\n",
    "            args.vovcab_size,\n",
    "            hidden_size = args.hidden_size,\n",
    "            num_hidden_layers = args.num_hidden_layers,\n",
    "            num_attention_heads = args.num_attention_heads,\n",
    "            intermediate_size=args.rnn_size\n",
    "        )\n",
    "        self.bert = Bert(False, bert_config)\n",
    "        self.encoder = Classifier(self.bert.model.config.num_hiddens)\n",
    "\n",
    "        #init arguments\n",
    "        if args.param_init != 0.0:\n",
    "            for p in self.encoder.parameters():\n",
    "                p.data.uniform_(-args.param_init, args.param_init)\n",
    "        \n",
    "        self.to(device)\n",
    "    \n",
    "    def forward(self):\n",
    "        pass\n",
    "    "
   ]
  },
  {
   "cell_type": "markdown",
   "metadata": {},
   "source": []
  }
 ],
 "metadata": {
  "kernelspec": {
   "display_name": "torch",
   "language": "python",
   "name": "python3"
  },
  "language_info": {
   "codemirror_mode": {
    "name": "ipython",
    "version": 3
   },
   "file_extension": ".py",
   "mimetype": "text/x-python",
   "name": "python",
   "nbconvert_exporter": "python",
   "pygments_lexer": "ipython3",
   "version": "3.9.16"
  },
  "orig_nbformat": 4
 },
 "nbformat": 4,
 "nbformat_minor": 2
}
