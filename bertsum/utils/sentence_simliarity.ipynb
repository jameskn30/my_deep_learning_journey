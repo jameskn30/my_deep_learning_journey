{
 "cells": [
  {
   "attachments": {},
   "cell_type": "markdown",
   "metadata": {},
   "source": [
    "### Get sentence similarity\n",
    "read://https_towardsdatascience.com/?url=https%3A%2F%2Ftowardsdatascience.com%2Fintroduction-to-text-summarization-with-rouge-scores-84140c64b471\n",
    "\n"
   ]
  },
  {
   "cell_type": "code",
   "execution_count": 6,
   "metadata": {},
   "outputs": [],
   "source": [
    "import torchtext\n",
    "import rouge\n",
    "from vocab import Vocab\n",
    "import os"
   ]
  },
  {
   "cell_type": "code",
   "execution_count": 2,
   "metadata": {},
   "outputs": [
    {
     "name": "stdout",
     "output_type": "stream",
     "text": [
      "[{'rouge-1': {'r': 1.0, 'p': 0.6666666666666666, 'f': 0.7999999952000001}, 'rouge-2': {'r': 0.8571428571428571, 'p': 0.5454545454545454, 'f': 0.6666666619135801}, 'rouge-l': {'r': 1.0, 'p': 0.6666666666666666, 'f': 0.7999999952000001}}]\n",
      "0.6666666619135801\n"
     ]
    }
   ],
   "source": [
    "ref = 'this person studied and loves the field of data science very much'\n",
    "can = 'this person studied the field of data science'\n",
    "\n",
    "rouge_score = rouge.Rouge()\n",
    "score = rouge_score.get_scores(ref, can)\n",
    "\n",
    "print(score)\n",
    "\n",
    "print(score[0]['rouge-2']['f'])\n"
   ]
  },
  {
   "cell_type": "code",
   "execution_count": 3,
   "metadata": {},
   "outputs": [],
   "source": [
    "def _get_oracle_ids(sentences, highlights, summary_len = -1, include_rouge_l = False, rouge_threshold = 0.6):\n",
    "    rouge_cal = rouge.Rouge()\n",
    "    score_by_index = []\n",
    "\n",
    "    def _get_rouge_total_score(score, include_rouge_l = include_rouge_l):\n",
    "        return score[0]['rouge-1']['f'] + score[0]['rouge-2']['f'] + (score[0]['rouge-l']['f'] if include_rouge_l else 0)\n",
    "\n",
    "    for i in range(len(sentences)):\n",
    "        for j in range(len(highlights)):\n",
    "            score = rouge_cal.get_scores(sentences[i], highlights[j])\n",
    "            total_score = _get_rouge_total_score(score, include_rouge_l)\n",
    "            score_by_index.append((i, j, total_score))\n",
    "    \n",
    "    if summary_len == -1: \n",
    "        score_by_index = filter(lambda x: x[2] >= rouge_threshold, score_by_index)\n",
    "    else:\n",
    "        score_by_index = sorted(score_by_index, key = lambda x: x[2], reverse=True)\n",
    "        score_by_index = score_by_index[:summary_len]\n",
    "    \n",
    "    score_by_index = map(lambda x: x[0], score_by_index)\n",
    "    score_by_index = list(score_by_index)\n",
    "    \n",
    "    return sorted(score_by_index)\n",
    "\n",
    "def _load_data(articles):\n",
    "    tokenizer = torchtext.data.get_tokenizer('spacy')\n",
    "    tokens = []\n",
    "\n",
    "    for article in articles:\n",
    "        tokens += tokenizer(' '.join(article))\n",
    "    \n",
    "    #NOTE word freq can affect performance down stream. Put attention to this param\n",
    "    vocab = Vocab(tokens, 3, reserved_tokens=['<cls>', '<sep>', '<pad>'])\n",
    "    return tokenizer, vocab\n",
    "\n",
    "def _save_vocab(vocab, vocab_path = None):\n",
    "    if vocab_path == None:\n",
    "        output_root = './output'\n",
    "        processed_root = os.path.join(output_root, 'processed')\n",
    "        vocab_path = os.path.join(processed_root, 'vocab.txt')\n",
    "\n",
    "    if os.path.exists(processed_root) == False: \n",
    "        os.makedirs(processed_root)\n",
    "    vocab.write_to(vocab_path)\n",
    "\n",
    "\n",
    "def _batchify(data):\n",
    "    articles = data['article']\n",
    "\n",
    "\n",
    "\n",
    "    articles\n",
    "    \n",
    "\n",
    "\n",
    "\n"
   ]
  },
  {
   "cell_type": "code",
   "execution_count": 4,
   "metadata": {},
   "outputs": [
    {
     "name": "stderr",
     "output_type": "stream",
     "text": [
      "c:\\Users\\nguye\\anaconda3\\envs\\torch\\lib\\site-packages\\torchtext\\data\\utils.py:105: UserWarning: Spacy model \"en\" could not be loaded, trying \"en_core_web_sm\" instead\n",
      "  warnings.warn(\n"
     ]
    },
    {
     "name": "stdout",
     "output_type": "stream",
     "text": [
      "['the bishop of the fargo catholic diocese in north dakota has exposed potentially hundreds of church members in fargo, grand forks and jamestown to the hepatitis a virus in late september and early october', 'the state health department has issued an advisory of exposure for anyone who attended five churches and took communion', 'bishop john folda (pictured) of the fargo catholic diocese in north dakota has exposed potentially hundreds of church members in fargo, grand forks and jamestown to the hepatitis a', \"state immunization program manager molly howell says the risk is low, but officials feel it's important to alert people to the possible exposure\", 'the diocese announced on monday that bishop john folda is taking time off after being diagnosed with hepatitis a', 'the diocese says he contracted the infection through contaminated food while attending a conference for newly ordained bishops in italy last month', 'symptoms of hepatitis a include fever, tiredness, loss of appetite, nausea and abdominal discomfort', 'fargo catholic diocese in north dakota (pictured) is where the bishop is located']\n",
      "['bishop john folda, of north dakota, is taking time off after being diagnosed', 'he contracted the infection through contaminated food in italy', 'church members in fargo, grand forks and jamestown could have been exposed']\n",
      "[2, 4, 5]\n",
      "bishop john folda (pictured) of the fargo catholic diocese in north dakota has exposed potentially hundreds of church members in fargo, grand forks and jamestown to the hepatitis a\n",
      "the diocese announced on monday that bishop john folda is taking time off after being diagnosed with hepatitis a\n",
      "the diocese says he contracted the infection through contaminated food while attending a conference for newly ordained bishops in italy last month\n",
      "\n",
      "bishop john folda, of north dakota, is taking time off after being diagnosed\n",
      "he contracted the infection through contaminated food in italy\n",
      "church members in fargo, grand forks and jamestown could have been exposed\n"
     ]
    }
   ],
   "source": [
    "article = '''By . Associated Press . PUBLISHED: . 14:11 EST, 25 October 2013 . | . UPDATED: . 15:36 EST, 25 October 2013 . The bishop of the Fargo Catholic Diocese in North Dakota has exposed potentially hundreds of church members in Fargo, Grand Forks and Jamestown to the hepatitis A virus in late September and early October. The state Health Department has issued an advisory of exposure for anyone who attended five churches and took communion. Bishop John Folda (pictured) of the Fargo Catholic Diocese in North Dakota has exposed potentially hundreds of church members in Fargo, Grand Forks and Jamestown to the hepatitis A . State Immunization Program Manager Molly Howell says the risk is low, but officials feel it's important to alert people to the possible exposure. The diocese announced on Monday that Bishop John Folda is taking time off after being diagnosed with hepatitis A. The diocese says he contracted the infection through contaminated food while attending a conference for newly ordained bishops in Italy last month. Symptoms of hepatitis A include fever, tiredness, loss of appetite, nausea and abdominal discomfort. Fargo Catholic Diocese in North Dakota (pictured) is where the bishop is located .'''\n",
    "highlight = '''Bishop John Folda, of North Dakota, is taking time off after being diagnosed.He contracted the infection through contaminated food in Italy. Church members in Fargo, Grand Forks and Jamestown could have been exposed .'''\n",
    "\n",
    "tokenizer = torchtext.data.get_tokenizer('spacy')\n",
    "\n",
    "sent = article.split('.')\n",
    "labels = highlight.split('.')\n",
    "\n",
    "for i in range(len(sent)):\n",
    "    sent[i] = sent[i].lower().strip()\n",
    "\n",
    "for i in range(len(labels)):\n",
    "    labels[i] = labels[i].lower().strip()\n",
    "\n",
    "sent = list(filter(lambda x: len(tokenizer(x)) >= 10, sent))\n",
    "labels = list(filter(lambda x: len(tokenizer(x)) >= 3, labels))\n",
    "\n",
    "print(sent)\n",
    "print(labels)\n",
    "\n",
    "sum_len = len(labels) if len(labels) < len(sent) else -1\n",
    "oracle_ids = _get_oracle_ids(sent, labels, summary_len = sum_len)\n",
    "print(oracle_ids)\n",
    "\n",
    "for idx in oracle_ids:\n",
    "    print(sent[idx])\n",
    "\n",
    "for l in labels:\n",
    "    print(l)\n"
   ]
  }
 ],
 "metadata": {
  "kernelspec": {
   "display_name": "torch",
   "language": "python",
   "name": "python3"
  },
  "language_info": {
   "codemirror_mode": {
    "name": "ipython",
    "version": 3
   },
   "file_extension": ".py",
   "mimetype": "text/x-python",
   "name": "python",
   "nbconvert_exporter": "python",
   "pygments_lexer": "ipython3",
   "version": "3.9.16"
  },
  "orig_nbformat": 4
 },
 "nbformat": 4,
 "nbformat_minor": 2
}
