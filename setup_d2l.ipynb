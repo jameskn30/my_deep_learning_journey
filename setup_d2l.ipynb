{
 "cells": [
  {
   "cell_type": "code",
   "execution_count": null,
   "metadata": {},
   "outputs": [],
   "source": [
    "# Setup env\n",
    "!pip install setuptools==66\n",
    "!pip install d2l==1.0.0b0\n",
    "!pip install matplotlib_inline"
   ]
  }
 ],
 "metadata": {
  "language_info": {
   "name": "python"
  },
  "orig_nbformat": 4
 },
 "nbformat": 4,
 "nbformat_minor": 2
}
