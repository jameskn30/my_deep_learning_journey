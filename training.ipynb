{
 "cells": [
  {
   "attachments": {},
   "cell_type": "markdown",
   "metadata": {},
   "source": [
    "### Training procedure"
   ]
  },
  {
   "cell_type": "code",
   "execution_count": 8,
   "metadata": {},
   "outputs": [],
   "source": [
    "import torch\n",
    "import torchvision \n",
    "import torchvision.transforms as transforms\n",
    "import matplotlib.pyplot as plt\n",
    "import numpy as np\n"
   ]
  },
  {
   "attachments": {},
   "cell_type": "markdown",
   "metadata": {},
   "source": [
    "### Prepare dataset"
   ]
  },
  {
   "cell_type": "code",
   "execution_count": 10,
   "metadata": {},
   "outputs": [
    {
     "name": "stdout",
     "output_type": "stream",
     "text": [
      "Training set has 60000 instances\n",
      "Validation set has 10000 instances\n",
      "Sneaker  Sandal  T-shirt/top  Bag\n"
     ]
    },
    {
     "data": {
      "image/png": "[encoded data removed]",
      "text/plain": [
       "<Figure size 640x480 with 1 Axes>"
      ]
     },
     "metadata": {},
     "output_type": "display_data"
    }
   ],
   "source": [
    "transform = transforms.Compose(\n",
    "    [transforms.ToTensor(),\n",
    "    transforms.Normalize((0.5,), (0.5,))])\n",
    "\n",
    "# Create datasets for training & validation, download if necessary\n",
    "training_set = torchvision.datasets.FashionMNIST('./data', train=True, transform=transform, download=True)\n",
    "validation_set = torchvision.datasets.FashionMNIST('./data', train=False, transform=transform, download=True)\n",
    "\n",
    "# Create data loaders for our datasets; shuffle for training, not for validation\n",
    "training_loader = torch.utils.data.DataLoader(training_set, batch_size=4, shuffle=True, num_workers=2)\n",
    "validation_loader = torch.utils.data.DataLoader(validation_set, batch_size=4, shuffle=False, num_workers=2)\n",
    "\n",
    "# Class labels\n",
    "classes = ('T-shirt/top', 'Trouser', 'Pullover', 'Dress', 'Coat',\n",
    "        'Sandal', 'Shirt', 'Sneaker', 'Bag', 'Ankle Boot')\n",
    "\n",
    "# Report split sizes\n",
    "print('Training set has {} instances'.format(len(training_set)))\n",
    "print('Validation set has {} instances'.format(len(validation_set)))\n",
    "\n",
    "#Visualize the datset\n",
    "import matplotlib.pyplot as plt\n",
    "import numpy as np\n",
    "\n",
    "# Helper function for inline image display\n",
    "def matplotlib_imshow(img, one_channel=False):\n",
    "    if one_channel:\n",
    "        img = img.mean(dim=0)\n",
    "    img = img / 2 + 0.5     # unnormalize\n",
    "    npimg = img.numpy()\n",
    "    if one_channel:\n",
    "        plt.imshow(npimg, cmap=\"Greys\")\n",
    "    else:\n",
    "        plt.imshow(np.transpose(npimg, (1, 2, 0)))\n",
    "\n",
    "images, labels = next(iter(training_loader))\n",
    "\n",
    "# Create a grid from the images and show them\n",
    "img_grid = torchvision.utils.make_grid(images)\n",
    "matplotlib_imshow(img_grid, one_channel=True)\n",
    "print('  '.join(classes[labels[j]] for j in range(4)))"
   ]
  },
  {
   "attachments": {},
   "cell_type": "markdown",
   "metadata": {},
   "source": [
    "### Prepare the model"
   ]
  },
  {
   "cell_type": "code",
   "execution_count": 11,
   "metadata": {},
   "outputs": [],
   "source": [
    "import torch.nn as nn\n",
    "import torch.nn.functional as F\n",
    "\n",
    "# PyTorch models inherit from torch.nn.Module\n",
    "class GarmentClassifier(nn.Module):\n",
    "    def __init__(self):\n",
    "        super(GarmentClassifier, self).__init__()\n",
    "        self.conv1 = nn.Conv2d(1, 6, 5)\n",
    "        self.pool = nn.MaxPool2d(2, 2)\n",
    "        self.conv2 = nn.Conv2d(6, 16, 5)\n",
    "        self.fc1 = nn.Linear(16 * 4 * 4, 120)\n",
    "        self.fc2 = nn.Linear(120, 84)\n",
    "        self.fc3 = nn.Linear(84, 10)\n",
    "\n",
    "    def forward(self, x):\n",
    "        x = self.pool(F.relu(self.conv1(x)))\n",
    "        x = self.pool(F.relu(self.conv2(x)))\n",
    "        x = x.view(-1, 16 * 4 * 4)\n",
    "        x = F.relu(self.fc1(x))\n",
    "        x = F.relu(self.fc2(x))\n",
    "        x = self.fc3(x)\n",
    "        return x\n",
    "    \n"
   ]
  },
  {
   "cell_type": "code",
   "execution_count": 36,
   "metadata": {},
   "outputs": [
    {
     "name": "stdout",
     "output_type": "stream",
     "text": [
      "torch.Size([4, 1, 28, 28])\n",
      "torch.Size([4])\n",
      "torch.Size([4, 10])\n"
     ]
    }
   ],
   "source": [
    "model = GarmentClassifier()\n",
    "for X,y in training_loader:\n",
    "    print(X.shape)\n",
    "    print(y.shape)\n",
    "    pred = model(X)\n",
    "    print(pred.shape)\n",
    "\n",
    "    break"
   ]
  },
  {
   "attachments": {},
   "cell_type": "markdown",
   "metadata": {},
   "source": [
    "### Trainining procedure"
   ]
  },
  {
   "cell_type": "code",
   "execution_count": 42,
   "metadata": {},
   "outputs": [
    {
     "name": "stdout",
     "output_type": "stream",
     "text": [
      "2.352593183517456\n",
      "epoch=1\n",
      "  batch 1000 loss: 1.7327712910026312\n",
      "  batch 2000 loss: 0.8034045385252684\n",
      "  batch 3000 loss: 0.7115292635150253\n",
      "  batch 4000 loss: 0.645293206709437\n",
      "  batch 5000 loss: 0.5895024705473334\n",
      "  batch 6000 loss: 0.5600181934158318\n",
      "  batch 7000 loss: 0.5605265806692769\n",
      "  batch 8000 loss: 0.5207756549904589\n",
      "  batch 9000 loss: 0.498958657276351\n",
      "  batch 10000 loss: 0.4990395034780959\n",
      "  batch 11000 loss: 0.45235868960455994\n",
      "  batch 12000 loss: 0.43799550884088967\n",
      "  batch 13000 loss: 0.4603227539343061\n",
      "  batch 14000 loss: 0.4256505395220593\n",
      "  batch 15000 loss: 0.4531266237021191\n",
      "avg loss =  0.4531266237021191\n",
      "epoch=2\n",
      "  batch 1000 loss: 0.40206815433851445\n",
      "  batch 2000 loss: 0.39991016417753417\n",
      "  batch 3000 loss: 0.39714252497814595\n",
      "  batch 4000 loss: 0.3992969687921868\n",
      "  batch 5000 loss: 0.38894184760750794\n",
      "  batch 6000 loss: 0.3721062776950566\n",
      "  batch 7000 loss: 0.40198833866391215\n",
      "  batch 8000 loss: 0.36212863817415203\n",
      "  batch 9000 loss: 0.3916732851671986\n",
      "  batch 10000 loss: 0.3644346435370389\n",
      "  batch 11000 loss: 0.3459227105109021\n",
      "  batch 12000 loss: 0.3595080156531185\n",
      "  batch 13000 loss: 0.37772930550185263\n",
      "  batch 14000 loss: 0.33341317563253686\n",
      "  batch 15000 loss: 0.34244755015835837\n",
      "avg loss =  0.34244755015835837\n",
      "epoch=3\n",
      "  batch 1000 loss: 0.33582342058667564\n",
      "  batch 2000 loss: 0.33350645854641336\n",
      "  batch 3000 loss: 0.3558254806204641\n",
      "  batch 4000 loss: 0.32201341172109826\n",
      "  batch 5000 loss: 0.3291173006972058\n",
      "  batch 6000 loss: 0.3313358133170259\n",
      "  batch 7000 loss: 0.3303807586949406\n",
      "  batch 8000 loss: 0.31778110300897244\n",
      "  batch 9000 loss: 0.3219794219540418\n",
      "  batch 10000 loss: 0.3300591786142104\n",
      "  batch 11000 loss: 0.32075970982268337\n",
      "  batch 12000 loss: 0.30595628849545026\n",
      "  batch 13000 loss: 0.33349215133271354\n",
      "  batch 14000 loss: 0.30467539182208564\n",
      "  batch 15000 loss: 0.33008464371207813\n",
      "avg loss =  0.33008464371207813\n"
     ]
    }
   ],
   "source": [
    "#multiclass task \n",
    "loss_fn = torch.nn.CrossEntropyLoss()\n",
    "\n",
    "loss = loss_fn(pred, y)\n",
    "print(loss.item())\n",
    "\n",
    "model = GarmentClassifier()\n",
    "\n",
    "opt = torch.optim.SGD(model.parameters(), lr = 0.001, momentum=0.9)\n",
    "\n",
    "def train_epoch(epoch_index, model, training_loader):\n",
    "    running_loss = 0.\n",
    "    last_loss = 0.\n",
    "\n",
    "    for i, (X, y) in enumerate(training_loader):\n",
    "        #reset optimier to 0 grad\n",
    "        opt.zero_grad()\n",
    "        #inference\n",
    "        y_hat = model(X)\n",
    "        #calculate loss\n",
    "        loss = loss_fn(y_hat, y)\n",
    "        #calculate gradients\n",
    "        loss.backward()\n",
    "        #update model weights\n",
    "        opt.step()\n",
    "\n",
    "        running_loss += loss.item()\n",
    "\n",
    "        if i % 1000 == 999:\n",
    "            last_loss = running_loss / 1000\n",
    "            print('  batch {} loss: {}'.format(i + 1, last_loss))\n",
    "            running_loss = 0.\n",
    "\n",
    "    return last_loss\n",
    "\n",
    "def train(model, training_loader, epochs = 5):\n",
    "\n",
    "    for epoch in range(epochs):\n",
    "        print(f'epoch={epoch + 1}')\n",
    "        model.train(True)\n",
    "\n",
    "        avg_loss = train_epoch(epoch, model, training_loader)\n",
    "        #after training each epoch, you can calculate accuracy on validation test\n",
    "        #update acc scores and send report to tensorflow, and stuff like that \n",
    "        print('avg loss = ', avg_loss)\n",
    "\n",
    "        if epoch == 2: break\n",
    "\n",
    "train(model, training_loader, 5)\n",
    "\n",
    "\n",
    "\n",
    "\n",
    "\n"
   ]
  },
  {
   "cell_type": "code",
   "execution_count": null,
   "metadata": {},
   "outputs": [],
   "source": []
  }
 ],
 "metadata": {
  "kernelspec": {
   "display_name": "torch",
   "language": "python",
   "name": "python3"
  },
  "language_info": {
   "codemirror_mode": {
    "name": "ipython",
    "version": 3
   },
   "file_extension": ".py",
   "mimetype": "text/x-python",
   "name": "python",
   "nbconvert_exporter": "python",
   "pygments_lexer": "ipython3",
   "version": "3.9.16"
  },
  "orig_nbformat": 4
 },
 "nbformat": 4,
 "nbformat_minor": 2
}
